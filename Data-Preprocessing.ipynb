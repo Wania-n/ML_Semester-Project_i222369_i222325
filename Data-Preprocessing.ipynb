{
 "cells": [
  {
   "cell_type": "markdown",
   "id": "870a5577",
   "metadata": {},
   "source": [
    "Machine Learning - Semester Project \n",
    "------------------------------------------------------------\n",
    "\n",
    "Done by Wania Naeem (22I-2369) and Emaan Ali (22I-2325)\n",
    "\n",
    "This is the first part of the project - DATA PREPROCESSING!!!\n",
    "\n",
    "-> We are downloading the Fashion MNIST dataset using tensorflow/ keras"
   ]
  },
  {
   "cell_type": "code",
   "execution_count": null,
   "id": "f77be97d",
   "metadata": {},
   "outputs": [],
   "source": [
    "# Downloading the dataset\n"
   ]
  }
 ],
 "metadata": {
  "kernelspec": {
   "display_name": "Python 3",
   "language": "python",
   "name": "python3"
  },
  "language_info": {
   "name": "python",
   "version": "3.12.5"
  }
 },
 "nbformat": 4,
 "nbformat_minor": 5
}
