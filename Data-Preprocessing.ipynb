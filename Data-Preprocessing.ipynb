{
 "cells": [
  {
   "cell_type": "markdown",
   "id": "870a5577",
   "metadata": {},
   "source": [
    "Machine Learning - Semester Project \n",
    "------------------------------------------------------------\n",
    "\n",
    "Done by Wania Naeem (22I-2369) and Emaan Ali (22I-2325)\n",
    "\n",
    "This is the first part of the project - DATA PREPROCESSING!!!\n",
    "\n",
    "-> We are downloading the Fashion MNIST dataset using tensorflow/ keras"
   ]
  }
 ],
 "metadata": {
  "language_info": {
   "name": "python"
  }
 },
 "nbformat": 4,
 "nbformat_minor": 5
}
