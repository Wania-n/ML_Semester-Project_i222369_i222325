{
 "cells": [
  {
   "cell_type": "markdown",
   "id": "870a5577",
   "metadata": {},
   "source": [
    "Machine Learning - Semester Project \n",
    "------------------------------------------------------------\n",
    "\n",
    "Done by Wania Naeem (22I-2369) and Emaan Ali (22I-2325)\n",
    "\n",
    "This is the first part of the project - DATA PREPROCESSING!!!\n",
    "\n",
    "-> We are downloading the Fashion MNIST dataset using tensorflow/ keras"
   ]
  },
  {
   "cell_type": "code",
   "execution_count": 2,
   "id": "f77be97d",
   "metadata": {},
   "outputs": [
    {
     "name": "stdout",
     "output_type": "stream",
     "text": [
      "Downloading data from https://storage.googleapis.com/tensorflow/tf-keras-datasets/train-labels-idx1-ubyte.gz\n",
      "\u001b[1m29515/29515\u001b[0m \u001b[32m━━━━━━━━━━━━━━━━━━━━\u001b[0m\u001b[37m\u001b[0m \u001b[1m0s\u001b[0m 3us/step\n",
      "Downloading data from https://storage.googleapis.com/tensorflow/tf-keras-datasets/train-images-idx3-ubyte.gz\n",
      "\u001b[1m26421880/26421880\u001b[0m \u001b[32m━━━━━━━━━━━━━━━━━━━━\u001b[0m\u001b[37m\u001b[0m \u001b[1m19s\u001b[0m 1us/step\n",
      "Downloading data from https://storage.googleapis.com/tensorflow/tf-keras-datasets/t10k-labels-idx1-ubyte.gz\n",
      "\u001b[1m5148/5148\u001b[0m \u001b[32m━━━━━━━━━━━━━━━━━━━━\u001b[0m\u001b[37m\u001b[0m \u001b[1m0s\u001b[0m 4us/step\n",
      "Downloading data from https://storage.googleapis.com/tensorflow/tf-keras-datasets/t10k-images-idx3-ubyte.gz\n",
      "\u001b[1m4422102/4422102\u001b[0m \u001b[32m━━━━━━━━━━━━━━━━━━━━\u001b[0m\u001b[37m\u001b[0m \u001b[1m8s\u001b[0m 2us/step\n"
     ]
    }
   ],
   "source": [
    "# Downloading the dataset\n",
    "from tensorflow.keras.datasets import fashion_mnist\n",
    "import numpy as np\n",
    "\n",
    "(x_train, y_train), (x_test, y_test) = fashion_mnist.load_data()\n",
    "\n",
    "# Combine both\n",
    "x_full = np.concatenate([x_train, x_test], axis=0)\n",
    "y_full = np.concatenate([y_train, y_test], axis=0)\n"
   ]
  },
  {
   "cell_type": "code",
   "execution_count": 3,
   "id": "ba04a580",
   "metadata": {},
   "outputs": [],
   "source": [
    "import numpy as np\n",
    "from sklearn.model_selection import train_test_split\n",
    "\n",
    "# Setting the Random factor constant\n",
    "np.random.seed(42)\n",
    "\n",
    "# Normalizing the Fashion MNIST Dataset into pixel values [0, 1]\n",
    "x_full = x_full.astype('float32') / 255.0\n",
    "\n",
    "# Splitting the dataset into 70% Train set, 15% Validation set, 15% Test set\n",
    "x_temp, x_test, y_temp, y_test = train_test_split(x_full, y_full, test_size=0.15, random_state=42)\n",
    "x_train, x_val, y_train, y_val = train_test_split(x_temp, y_temp, test_size=0.1765, random_state=42)  # 0.1765 of 85% ≈ 15%"
   ]
  },
  {
   "cell_type": "code",
   "execution_count": 4,
   "id": "bc02cc12",
   "metadata": {},
   "outputs": [],
   "source": [
    "# Flattening the Images into 1D now for non-NN models\n",
    "x_train_flat = x_train.reshape(x_train.shape[0], -1)\n",
    "x_val_flat = x_val.reshape(x_val.shape[0], -1)\n",
    "x_test_flat = x_test.reshape(x_test.shape[0], -1)"
   ]
  }
 ],
 "metadata": {
  "kernelspec": {
   "display_name": "Python 3",
   "language": "python",
   "name": "python3"
  },
  "language_info": {
   "codemirror_mode": {
    "name": "ipython",
    "version": 3
   },
   "file_extension": ".py",
   "mimetype": "text/x-python",
   "name": "python",
   "nbconvert_exporter": "python",
   "pygments_lexer": "ipython3",
   "version": "3.12.5"
  }
 },
 "nbformat": 4,
 "nbformat_minor": 5
}
