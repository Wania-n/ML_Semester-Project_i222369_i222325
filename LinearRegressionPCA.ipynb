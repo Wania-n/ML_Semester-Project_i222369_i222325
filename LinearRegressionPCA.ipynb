{
 "cells": [
  {
   "cell_type": "code",
   "execution_count": 1,
   "id": "6b20d512",
   "metadata": {},
   "outputs": [
    {
     "name": "stdout",
     "output_type": "stream",
     "text": [
      "PCA data loaded. Shapes:\n",
      "Train: (48998, 188)\n",
      "Validation: (10502, 188)\n",
      "Test: (10500, 188)\n"
     ]
    }
   ],
   "source": [
    "import numpy as np\n",
    "from sklearn.model_selection import GridSearchCV\n",
    "from sklearn.linear_model import LogisticRegression  # Using LogisticRegression for L2\n",
    "from sklearn.preprocessing import StandardScaler\n",
    "from sklearn.metrics import accuracy_score, classification_report, confusion_matrix\n",
    "import time\n",
    "import matplotlib.pyplot as plt\n",
    "import warnings\n",
    "\n",
    "warnings.filterwarnings('ignore')  # To suppress convergence warnings\n",
    "\n",
    "# Load pre-computed PCA data\n",
    "x_train_pca = np.load('x_train_pca95.npy')\n",
    "x_val_pca = np.load('x_val_pca95.npy')\n",
    "x_test_pca = np.load('x_test_pca95.npy')\n",
    "y_train = np.load('y_train.npy')\n",
    "y_val = np.load('y_val.npy')\n",
    "y_test = np.load('y_test.npy')\n",
    "\n",
    "print(\"PCA data loaded. Shapes:\")\n",
    "print(\"Train:\", x_train_pca.shape)\n",
    "print(\"Validation:\", x_val_pca.shape)\n",
    "print(\"Test:\", x_test_pca.shape)"
   ]
  },
  {
   "cell_type": "markdown",
   "id": "6a048a6e",
   "metadata": {},
   "source": [
    "Scaling PCA Data"
   ]
  },
  {
   "cell_type": "code",
   "execution_count": 2,
   "id": "f1c3f055",
   "metadata": {},
   "outputs": [],
   "source": [
    "# Scale the PCA-transformed data\n",
    "scaler = StandardScaler()\n",
    "x_train_scaled = scaler.fit_transform(x_train_pca)\n",
    "x_val_scaled = scaler.transform(x_val_pca)\n",
    "x_test_scaled = scaler.transform(x_test_pca)"
   ]
  },
  {
   "cell_type": "markdown",
   "id": "680d53ce",
   "metadata": {},
   "source": [
    "Hyperparameter Tuning (GridSearchCV) - Using Scaled PCA Data"
   ]
  },
  {
   "cell_type": "code",
   "execution_count": 3,
   "id": "63ab02c1",
   "metadata": {},
   "outputs": [
    {
     "name": "stdout",
     "output_type": "stream",
     "text": [
      "Fitting 3 folds for each of 3 candidates, totalling 9 fits\n",
      "Best C (L2): 10\n"
     ]
    }
   ],
   "source": [
    "# Hyperparameter Tuning (L2 Regularization)\n",
    "param_grid_l2 = {\n",
    "    'C': [1000, 10, 1]  # Inverse of regularization strength (lambda)\n",
    "}\n",
    "\n",
    "grid_search_l2 = GridSearchCV(\n",
    "    LogisticRegression(penalty='l2', solver='lbfgs', max_iter=10000,\n",
    "                       multi_class='multinomial', random_state=42),\n",
    "    param_grid_l2,\n",
    "    cv=3,\n",
    "    verbose=2,\n",
    "    n_jobs=-1,\n",
    "    scoring='accuracy'\n",
    ")\n",
    "\n",
    "start_time_grid_search_l2 = time.time()\n",
    "grid_search_l2.fit(x_train_scaled, y_train)\n",
    "grid_search_time_l2 = time.time() - start_time_grid_search_l2\n",
    "\n",
    "print(\"Best C (L2):\", grid_search_l2.best_params_['C'])\n",
    "best_l2_model = grid_search_l2.best_estimator_"
   ]
  },
  {
   "cell_type": "markdown",
   "id": "abc80725",
   "metadata": {},
   "source": [
    "Evaluation - Using Scaled PCA Data"
   ]
  },
  {
   "cell_type": "code",
   "execution_count": 4,
   "id": "7f86bc2c",
   "metadata": {},
   "outputs": [
    {
     "name": "stdout",
     "output_type": "stream",
     "text": [
      "\n",
      "L2 Regularization with PCA:\n",
      "Test Accuracy: 0.8525714285714285\n",
      "Evaluation Time: 0.03330492973327637\n",
      "\n",
      "Classification Report (L2 with PCA):\n",
      "              precision    recall  f1-score   support\n",
      "\n",
      "           0       0.78      0.82      0.80      1040\n",
      "           1       0.97      0.95      0.96      1061\n",
      "           2       0.77      0.75      0.76      1036\n",
      "           3       0.85      0.86      0.86      1103\n",
      "           4       0.74      0.79      0.77       995\n",
      "           5       0.94      0.95      0.94      1075\n",
      "           6       0.64      0.58      0.61      1083\n",
      "           7       0.91      0.94      0.93      1032\n",
      "           8       0.94      0.95      0.94       993\n",
      "           9       0.95      0.94      0.95      1082\n",
      "\n",
      "    accuracy                           0.85     10500\n",
      "   macro avg       0.85      0.85      0.85     10500\n",
      "weighted avg       0.85      0.85      0.85     10500\n",
      "\n",
      "\n",
      "Confusion Matrix (L2 with PCA):\n",
      "[[ 848    2   19   61    2    0   87    1   18    2]\n",
      " [   6 1013    6   25    3    1    4    1    1    1]\n",
      " [  20    5  774   13  118    1  100    0    5    0]\n",
      " [  35   17    9  952   40    1   44    0    4    1]\n",
      " [   0    0   74   32  789    0   94    0    6    0]\n",
      " [   1    0    0    0    0 1016    0   38    5   15]\n",
      " [ 171    2  117   31  112    0  629    0   21    0]\n",
      " [   0    0    0    0    0   32    0  972    0   28]\n",
      " [   2    3    5    4    3    6   19    7  941    3]\n",
      " [   0    0    0    0    0   19    0   44    1 1018]]\n",
      "\n",
      "Overfitting Analysis (L2 with PCA):\n",
      "Training Accuracy: 0.8654434874892852\n",
      "Validation Accuracy: 0.8511367588927037\n",
      "Accuracy Gap (Train - Val): 0.014306728596581553\n"
     ]
    }
   ],
   "source": [
    "# Evaluation\n",
    "start_time_eval = time.time()\n",
    "y_pred_l2 = best_l2_model.predict(x_test_scaled)\n",
    "eval_time = time.time() - start_time_eval\n",
    "\n",
    "l2_accuracy = accuracy_score(y_test, y_pred_l2)\n",
    "print(\"\\nL2 Regularization with PCA:\")\n",
    "print(\"Test Accuracy:\", l2_accuracy)\n",
    "print(\"Evaluation Time:\", eval_time)\n",
    "\n",
    "print(\"\\nClassification Report (L2 with PCA):\")\n",
    "print(classification_report(y_test, y_pred_l2))\n",
    "\n",
    "print(\"\\nConfusion Matrix (L2 with PCA):\")\n",
    "print(confusion_matrix(y_test, y_pred_l2))\n",
    "\n",
    "# Overfitting Analysis\n",
    "y_train_pred_l2 = best_l2_model.predict(x_train_scaled)\n",
    "train_accuracy_l2 = accuracy_score(y_train, y_train_pred_l2)\n",
    "print(\"\\nOverfitting Analysis (L2 with PCA):\")\n",
    "print(\"Training Accuracy:\", train_accuracy_l2)\n",
    "print(\"Validation Accuracy:\", grid_search_l2.best_score_)  # Best CV score is approx. validation accuracy\n",
    "print(\"Accuracy Gap (Train - Val):\", train_accuracy_l2 - grid_search_l2.best_score_)"
   ]
  }
 ],
 "metadata": {
  "kernelspec": {
   "display_name": "tfenv311",
   "language": "python",
   "name": "python3"
  },
  "language_info": {
   "codemirror_mode": {
    "name": "ipython",
    "version": 3
   },
   "file_extension": ".py",
   "mimetype": "text/x-python",
   "name": "python",
   "nbconvert_exporter": "python",
   "pygments_lexer": "ipython3",
   "version": "3.11.0"
  }
 },
 "nbformat": 4,
 "nbformat_minor": 5
}
