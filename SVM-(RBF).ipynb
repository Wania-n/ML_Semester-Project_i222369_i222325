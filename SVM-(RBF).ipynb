{
 "cells": [
  {
   "cell_type": "markdown",
   "id": "80d64b4c",
   "metadata": {},
   "source": [
    "SVM (RBF) Model\n",
    "-----------------------------"
   ]
  },
  {
   "cell_type": "code",
   "execution_count": 2,
   "id": "78204584",
   "metadata": {},
   "outputs": [],
   "source": [
    "# Getting the dataset from the .npz file\n",
    "import numpy as np\n",
    "\n",
    "np.random.seed(42)\n",
    "\n",
    "# Loading the data (NON-PCA)\n",
    "data = np.load(\"preprocessed_data.npz\")\n",
    "x_train_flat, y_train = data[\"x_train_flat\"], data[\"y_train\"]\n",
    "x_val_flat, y_val = data[\"x_val_flat\"], data[\"y_val\"]\n",
    "x_test_flat, y_test = data[\"x_test_flat\"], data[\"y_test\"]\n",
    "\n",
    "# Loading the data (PCA)\n",
    "data2 = np.load(\"preprocessed_data_pca95.npz\")\n",
    "x_train_pca95, y_train = data2[\"x_train_pca95\"], data2[\"y_train\"]\n",
    "x_val_pca95, y_val = data2[\"x_val_pca95\"], data2[\"y_val\"]\n",
    "x_test_pca95, y_test = data2[\"x_test_pca95\"], data2[\"y_test\"]"
   ]
  },
  {
   "cell_type": "code",
   "execution_count": 1,
   "id": "b7c716ca",
   "metadata": {},
   "outputs": [],
   "source": [
    "# Function to train and evaluate SVM model (Non-PCA)\n",
    "from sklearn.svm import SVC\n",
    "from sklearn.metrics import accuracy_score\n",
    "import matplotlib.pyplot as plt\n",
    "import time\n",
    "\n",
    "def train_evaluate_svm(C_val, x_train, y_train, x_val, y_val, x_test, y_test):\n",
    "    svm = SVC(kernel='rbf', C=C_val, probability=False, gamma='scale')  # probability=False for speed\n",
    "\n",
    "    start_time = time.time()\n",
    "    svm.fit(x_train, y_train)\n",
    "    train_time = time.time() - start_time\n",
    "\n",
    "    y_train_pred = svm.predict(x_train)\n",
    "    y_val_pred = svm.predict(x_val)\n",
    "    y_test_pred = svm.predict(x_test)\n",
    "\n",
    "    train_acc = accuracy_score(y_train, y_train_pred)\n",
    "    val_acc = accuracy_score(y_val, y_val_pred)\n",
    "    test_acc = accuracy_score(y_test, y_test_pred)\n",
    "    overfit_gap = train_acc - val_acc\n",
    "\n",
    "    print(f\"\\nSVM Model (C={C_val}):\")\n",
    "    print(f\"Train Accuracy: {train_acc:.4f}\")\n",
    "    print(f\"Val Accuracy:   {val_acc:.4f}\")\n",
    "    print(f\"Test Accuracy:  {test_acc:.4f}\")\n",
    "    print(f\"Overfitting Gap: {overfit_gap:.4f}\")\n",
    "    print(f\"Training Time:   {train_time:.2f} seconds\")\n",
    "\n",
    "    return {\n",
    "        'train_acc': train_acc,\n",
    "        'val_acc': val_acc,\n",
    "        'test_acc': test_acc,\n",
    "        'overfit_gap': overfit_gap,\n",
    "        'train_time': train_time\n",
    "    }"
   ]
  },
  {
   "cell_type": "markdown",
   "id": "dd573b59",
   "metadata": {},
   "source": [
    "Training this model on google colab because VSCode training time is reaching a 16 minutes mark!"
   ]
  },
  {
   "cell_type": "code",
   "execution_count": 3,
   "id": "6f83039a",
   "metadata": {},
   "outputs": [
    {
     "name": "stdout",
     "output_type": "stream",
     "text": [
      "\n",
      "SVM Model (C=0.1):\n",
      "Train Accuracy: 0.8539\n",
      "Val Accuracy:   0.8501\n",
      "Test Accuracy:  0.8450\n",
      "Overfitting Gap: 0.0037\n",
      "Training Time:   315.01 seconds\n"
     ]
    }
   ],
   "source": [
    "# C = 0.1\n",
    "svm_c01 = train_evaluate_svm(0.1, x_train_flat, y_train, x_val_flat, y_val, x_test_flat, y_test)"
   ]
  },
  {
   "cell_type": "code",
   "execution_count": 4,
   "id": "87822dda",
   "metadata": {},
   "outputs": [
    {
     "name": "stdout",
     "output_type": "stream",
     "text": [
      "\n",
      "SVM Model (C=10):\n",
      "Train Accuracy: 0.9731\n",
      "Val Accuracy:   0.9043\n",
      "Test Accuracy:  0.9036\n",
      "Overfitting Gap: 0.0688\n",
      "Training Time:   157.11 seconds\n"
     ]
    }
   ],
   "source": [
    "# C = 10\n",
    "svm_c10 = train_evaluate_svm(10, x_train_flat, y_train, x_val_flat, y_val, x_test_flat, y_test)"
   ]
  },
  {
   "cell_type": "code",
   "execution_count": 6,
   "id": "36447745",
   "metadata": {},
   "outputs": [
    {
     "data": {
      "image/png": "[encoded data removed]",
      "text/plain": [
       "<Figure size 640x480 with 1 Axes>"
      ]
     },
     "metadata": {},
     "output_type": "display_data"
    }
   ],
   "source": [
    "# Plot comparison\n",
    "labels = ['Train', 'Val', 'Test']\n",
    "\n",
    "# Accuracy plot\n",
    "plt.bar([0, 1, 2], [svm_c01['train_acc'], svm_c01['val_acc'], svm_c01['test_acc']], width=0.3, label='SVM C=0.1')\n",
    "plt.bar([x + 0.3 for x in [0, 1, 2]], [svm_c10['train_acc'], svm_c10['val_acc'], svm_c10['test_acc']], width=0.3, label='SVM C=10')\n",
    "plt.xticks([0.15, 1.15, 2.15], labels)\n",
    "plt.ylabel('Accuracy')\n",
    "plt.title('SVM Accuracy Comparison')\n",
    "plt.legend()\n",
    "plt.show()\n"
   ]
  },
  {
   "cell_type": "code",
   "execution_count": 7,
   "id": "2b3a4b4a",
   "metadata": {},
   "outputs": [
    {
     "name": "stdout",
     "output_type": "stream",
     "text": [
      "\n",
      "SVM Model (C=0.1):\n",
      "Train Accuracy: 0.8611\n",
      "Val Accuracy:   0.8560\n",
      "Test Accuracy:  0.8528\n",
      "Overfitting Gap: 0.0051\n",
      "Training Time:   147.97 seconds\n"
     ]
    }
   ],
   "source": [
    "# Now train Models on PCA Dataset\n",
    "# C = 0.1\n",
    "svm_c01_pca = train_evaluate_svm(0.1, x_train_pca95, y_train, x_val_pca95, y_val, x_test_pca95, y_test)"
   ]
  },
  {
   "cell_type": "code",
   "execution_count": 8,
   "id": "b435489f",
   "metadata": {},
   "outputs": [
    {
     "name": "stdout",
     "output_type": "stream",
     "text": [
      "\n",
      "SVM Model (C=10):\n",
      "Train Accuracy: 0.9718\n",
      "Val Accuracy:   0.9070\n",
      "Test Accuracy:  0.9073\n",
      "Overfitting Gap: 0.0648\n",
      "Training Time:   84.14 seconds\n"
     ]
    }
   ],
   "source": [
    "# C = 10\n",
    "svm_c10_pca = train_evaluate_svm(10, x_train_pca95, y_train, x_val_pca95, y_val, x_test_pca95, y_test)"
   ]
  },
  {
   "cell_type": "code",
   "execution_count": 9,
   "id": "fd0cc12d",
   "metadata": {},
   "outputs": [
    {
     "data": {
      "image/png": "[encoded data removed]",
      "text/plain": [
       "<Figure size 640x480 with 1 Axes>"
      ]
     },
     "metadata": {},
     "output_type": "display_data"
    }
   ],
   "source": [
    "# Plot comparison\n",
    "labels = ['Train', 'Val', 'Test']\n",
    "\n",
    "# Accuracy plot\n",
    "plt.bar([0, 1, 2], [svm_c01_pca['train_acc'], svm_c01_pca['val_acc'], svm_c01_pca['test_acc']], width=0.3, label='SVM C=0.1')\n",
    "plt.bar([x + 0.3 for x in [0, 1, 2]], [svm_c10_pca['train_acc'], svm_c10_pca['val_acc'], svm_c10_pca['test_acc']], width=0.3, label='SVM C=10')\n",
    "plt.xticks([0.15, 1.15, 2.15], labels)\n",
    "plt.ylabel('Accuracy')\n",
    "plt.title('SVM Accuracy Comparison')\n",
    "plt.legend()\n",
    "plt.show()"
   ]
  }
 ],
 "metadata": {
  "kernelspec": {
   "display_name": "Python 3",
   "language": "python",
   "name": "python3"
  },
  "language_info": {
   "codemirror_mode": {
    "name": "ipython",
    "version": 3
   },
   "file_extension": ".py",
   "mimetype": "text/x-python",
   "name": "python",
   "nbconvert_exporter": "python",
   "pygments_lexer": "ipython3",
   "version": "3.11.9"
  }
 },
 "nbformat": 4,
 "nbformat_minor": 5
}
