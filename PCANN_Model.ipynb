{
 "cells": [
  {
   "cell_type": "code",
   "execution_count": 2,
   "id": "9f055707",
   "metadata": {},
   "outputs": [],
   "source": [
    "import numpy as np\n",
    "import tensorflow as tf\n",
    "from tensorflow import keras\n",
    "from sklearn.model_selection import train_test_split  # If needed\n",
    "from sklearn.decomposition import PCA  # If needed\n",
    "import matplotlib.pyplot as plt\n",
    "import pandas as pd # If you are using pandas"
   ]
  },
  {
   "cell_type": "markdown",
   "id": "e4aa375d",
   "metadata": {},
   "source": [
    " load the data"
   ]
  },
  {
   "cell_type": "code",
   "execution_count": 3,
   "id": "7818db98",
   "metadata": {},
   "outputs": [
    {
     "name": "stdout",
     "output_type": "stream",
     "text": [
      "Train shapes: (48998, 188) (48998,)\n",
      "Validation shapes: (10502, 188) (10502,)\n",
      "Test shapes: (10500, 188) (10500,)\n"
     ]
    }
   ],
   "source": [
    "x_train = np.load('x_train_pca95.npy')\n",
    "x_val = np.load('x_val_pca95.npy')\n",
    "x_test = np.load('x_test_pca95.npy')\n",
    "y_train = np.load('y_train.npy')\n",
    "y_val = np.load('y_val.npy')\n",
    "y_test = np.load('y_test.npy')\n",
    "\n",
    "# Verify shapes\n",
    "print(\"Train shapes:\", x_train.shape, y_train.shape)\n",
    "print(\"Validation shapes:\", x_val.shape, y_val.shape)\n",
    "print(\"Test shapes:\", x_test.shape, y_test.shape)"
   ]
  },
  {
   "cell_type": "markdown",
   "id": "0341c0bd",
   "metadata": {},
   "source": [
    " Define the PCA-NN Model"
   ]
  },
  {
   "cell_type": "code",
   "execution_count": 4,
   "id": "74ce13c6",
   "metadata": {},
   "outputs": [],
   "source": [
    "def create_pcann_model(input_dim, l2_lambda=0.001, dropout_rate=0.2):\n",
    "    model = keras.models.Sequential([\n",
    "        keras.layers.Input(shape=(input_dim,)),  # Input dimension after PCA\n",
    "        keras.layers.Dense(256, activation='relu', \n",
    "                           kernel_regularizer=keras.regularizers.l2(l2_lambda)),\n",
    "        keras.layers.Dropout(dropout_rate),\n",
    "        keras.layers.Dense(128, activation='relu', \n",
    "                           kernel_regularizer=keras.regularizers.l2(l2_lambda)),\n",
    "        keras.layers.Dropout(dropout_rate),\n",
    "        keras.layers.Dense(10, activation='softmax')  # 10 classes for Fashion MNIST\n",
    "    ])\n",
    "    model.compile(optimizer='adam', \n",
    "                  loss='sparse_categorical_crossentropy',  # Or categorical_crossentropy if y is one-hot encoded\n",
    "                  metrics=['accuracy'])\n",
    "    return model"
   ]
  },
  {
   "cell_type": "markdown",
   "id": "f6c25ecf",
   "metadata": {},
   "source": [
    "Implement Early Stopping"
   ]
  },
  {
   "cell_type": "code",
   "execution_count": 5,
   "id": "13236e30",
   "metadata": {},
   "outputs": [],
   "source": [
    "early_stopping = keras.callbacks.EarlyStopping(\n",
    "    monitor='val_loss',  # Monitor validation loss\n",
    "    patience=5,          # Patience of 5 epochs\n",
    "    restore_best_weights=True,\n",
    "    verbose=1\n",
    ")"
   ]
  },
  {
   "cell_type": "markdown",
   "id": "fc12fc28",
   "metadata": {},
   "source": [
    " Hyperparameter Tuning"
   ]
  },
  {
   "cell_type": "code",
   "execution_count": 12,
   "id": "a59949dd",
   "metadata": {},
   "outputs": [
    {
     "name": "stdout",
     "output_type": "stream",
     "text": [
      "Training with L2=0.001, Dropout=0.2\n",
      "Epoch 22: early stopping\n",
      "Restoring model weights from the end of the best epoch: 17.\n",
      "  Validation Accuracy: 0.8889735341072083\n",
      "Training with L2=0.001, Dropout=0.5\n",
      "Epoch 20: early stopping\n",
      "Restoring model weights from the end of the best epoch: 15.\n",
      "  Validation Accuracy: 0.8806893825531006\n",
      "Training with L2=0.01, Dropout=0.2\n",
      "Epoch 29: early stopping\n",
      "Restoring model weights from the end of the best epoch: 24.\n",
      "  Validation Accuracy: 0.8665016293525696\n",
      "Training with L2=0.01, Dropout=0.5\n",
      "Epoch 15: early stopping\n",
      "Restoring model weights from the end of the best epoch: 10.\n",
      "  Validation Accuracy: 0.8528851866722107\n",
      "Training with L2=0.1, Dropout=0.2\n",
      "Epoch 31: early stopping\n",
      "Restoring model weights from the end of the best epoch: 26.\n",
      "  Validation Accuracy: 0.8155589699745178\n",
      "Training with L2=0.1, Dropout=0.5\n",
      "Epoch 42: early stopping\n",
      "Restoring model weights from the end of the best epoch: 37.\n",
      "  Validation Accuracy: 0.8101314306259155\n",
      "Best Validation Accuracy: 0.8889735341072083\n",
      "Best Hyperparameters: {'l2': 0.001, 'dropout': 0.2}\n"
     ]
    }
   ],
   "source": [
    "l2_lambdas = [0.001, 0.01, 0.1]\n",
    "dropout_rates = [0.2, 0.5]\n",
    "\n",
    "best_val_accuracy = 0\n",
    "best_model = None\n",
    "best_hyperparameters = None\n",
    "\n",
    "for l2 in l2_lambdas:\n",
    "    for dropout in dropout_rates:\n",
    "        print(f\"Training with L2={l2}, Dropout={dropout}\")\n",
    "        model = create_pcann_model(x_train.shape[1], l2_lambda=l2, dropout_rate=dropout)  # Use x_train.shape[1]\n",
    "        history = model.fit(x_train, y_train, \n",
    "                            epochs=50,  # Or however many you want\n",
    "                            validation_data=(x_val, y_val),\n",
    "                            callbacks=[early_stopping],\n",
    "                            verbose=0)  # Suppress output during tuning\n",
    "\n",
    "        val_accuracy = history.history['val_accuracy'][-1]  # Last epoch's val_accuracy\n",
    "        print(f\"  Validation Accuracy: {val_accuracy}\")\n",
    "\n",
    "        if val_accuracy > best_val_accuracy:\n",
    "            best_val_accuracy = val_accuracy\n",
    "            best_model = model\n",
    "            best_hyperparameters = {'l2': l2, 'dropout': dropout}\n",
    "\n",
    "print(\"Best Validation Accuracy:\", best_val_accuracy)\n",
    "print(\"Best Hyperparameters:\", best_hyperparameters)"
   ]
  },
  {
   "cell_type": "markdown",
   "id": "0a99ac4d",
   "metadata": {},
   "source": [
    "Training and Evaluation\n",
    "\n",
    "Train the best model:"
   ]
  },
  {
   "cell_type": "code",
   "execution_count": 13,
   "id": "50ce301f",
   "metadata": {},
   "outputs": [
    {
     "name": "stdout",
     "output_type": "stream",
     "text": [
      "Epoch 1/50\n",
      "\u001b[1m1532/1532\u001b[0m \u001b[32m━━━━━━━━━━━━━━━━━━━━\u001b[0m\u001b[37m\u001b[0m \u001b[1m8s\u001b[0m 5ms/step - accuracy: 0.8923 - loss: 0.3927 - val_accuracy: 0.8892 - val_loss: 0.4165\n",
      "Epoch 2/50\n",
      "\u001b[1m1532/1532\u001b[0m \u001b[32m━━━━━━━━━━━━━━━━━━━━\u001b[0m\u001b[37m\u001b[0m \u001b[1m8s\u001b[0m 5ms/step - accuracy: 0.8994 - loss: 0.3842 - val_accuracy: 0.8942 - val_loss: 0.4120\n",
      "Epoch 3/50\n",
      "\u001b[1m1532/1532\u001b[0m \u001b[32m━━━━━━━━━━━━━━━━━━━━\u001b[0m\u001b[37m\u001b[0m \u001b[1m8s\u001b[0m 5ms/step - accuracy: 0.8977 - loss: 0.3796 - val_accuracy: 0.8895 - val_loss: 0.4131\n",
      "Epoch 4/50\n",
      "\u001b[1m1532/1532\u001b[0m \u001b[32m━━━━━━━━━━━━━━━━━━━━\u001b[0m\u001b[37m\u001b[0m \u001b[1m8s\u001b[0m 5ms/step - accuracy: 0.8979 - loss: 0.3803 - val_accuracy: 0.8899 - val_loss: 0.4071\n",
      "Epoch 5/50\n",
      "\u001b[1m1532/1532\u001b[0m \u001b[32m━━━━━━━━━━━━━━━━━━━━\u001b[0m\u001b[37m\u001b[0m \u001b[1m8s\u001b[0m 5ms/step - accuracy: 0.9004 - loss: 0.3788 - val_accuracy: 0.8907 - val_loss: 0.4096\n",
      "Epoch 6/50\n",
      "\u001b[1m1532/1532\u001b[0m \u001b[32m━━━━━━━━━━━━━━━━━━━━\u001b[0m\u001b[37m\u001b[0m \u001b[1m8s\u001b[0m 5ms/step - accuracy: 0.8960 - loss: 0.3821 - val_accuracy: 0.8914 - val_loss: 0.4058\n",
      "Epoch 7/50\n",
      "\u001b[1m1532/1532\u001b[0m \u001b[32m━━━━━━━━━━━━━━━━━━━━\u001b[0m\u001b[37m\u001b[0m \u001b[1m7s\u001b[0m 5ms/step - accuracy: 0.8991 - loss: 0.3808 - val_accuracy: 0.8888 - val_loss: 0.4118\n",
      "Epoch 8/50\n",
      "\u001b[1m1532/1532\u001b[0m \u001b[32m━━━━━━━━━━━━━━━━━━━━\u001b[0m\u001b[37m\u001b[0m \u001b[1m8s\u001b[0m 5ms/step - accuracy: 0.9002 - loss: 0.3751 - val_accuracy: 0.8892 - val_loss: 0.4099\n",
      "Epoch 9/50\n",
      "\u001b[1m1532/1532\u001b[0m \u001b[32m━━━━━━━━━━━━━━━━━━━━\u001b[0m\u001b[37m\u001b[0m \u001b[1m8s\u001b[0m 5ms/step - accuracy: 0.8996 - loss: 0.3764 - val_accuracy: 0.8876 - val_loss: 0.4125\n",
      "Epoch 10/50\n",
      "\u001b[1m1532/1532\u001b[0m \u001b[32m━━━━━━━━━━━━━━━━━━━━\u001b[0m\u001b[37m\u001b[0m \u001b[1m8s\u001b[0m 5ms/step - accuracy: 0.9003 - loss: 0.3761 - val_accuracy: 0.8898 - val_loss: 0.4116\n",
      "Epoch 11/50\n",
      "\u001b[1m1532/1532\u001b[0m \u001b[32m━━━━━━━━━━━━━━━━━━━━\u001b[0m\u001b[37m\u001b[0m \u001b[1m8s\u001b[0m 5ms/step - accuracy: 0.8991 - loss: 0.3789 - val_accuracy: 0.8920 - val_loss: 0.4105\n",
      "Epoch 11: early stopping\n",
      "Restoring model weights from the end of the best epoch: 6.\n"
     ]
    },
    {
     "data": {
      "text/plain": [
       "<keras.src.callbacks.history.History at 0x2b4026401d0>"
      ]
     },
     "execution_count": 13,
     "metadata": {},
     "output_type": "execute_result"
    }
   ],
   "source": [
    "best_model.fit(x_train, y_train, epochs=50, validation_data=(x_val, y_val), callbacks=[early_stopping], verbose=1)"
   ]
  },
  {
   "cell_type": "markdown",
   "id": "4585fd88",
   "metadata": {},
   "source": [
    "Evaluate on the test set:\n",
    "\n"
   ]
  },
  {
   "cell_type": "code",
   "execution_count": 14,
   "id": "67b358ab",
   "metadata": {},
   "outputs": [
    {
     "name": "stdout",
     "output_type": "stream",
     "text": [
      "Test Accuracy: 0.8939999938011169\n"
     ]
    }
   ],
   "source": [
    "test_loss, test_accuracy = best_model.evaluate(x_test, y_test, verbose=0)\n",
    "print(\"Test Accuracy:\", test_accuracy)"
   ]
  },
  {
   "cell_type": "markdown",
   "id": "5c839394",
   "metadata": {},
   "source": [
    "Training Time: Use time.time() to measure training time.\n",
    "\n"
   ]
  },
  {
   "cell_type": "code",
   "execution_count": 15,
   "id": "ba100504",
   "metadata": {},
   "outputs": [
    {
     "name": "stdout",
     "output_type": "stream",
     "text": [
      "Epoch 1/50\n",
      "\u001b[1m1532/1532\u001b[0m \u001b[32m━━━━━━━━━━━━━━━━━━━━\u001b[0m\u001b[37m\u001b[0m \u001b[1m8s\u001b[0m 5ms/step - accuracy: 0.9014 - loss: 0.3771 - val_accuracy: 0.8924 - val_loss: 0.4073\n",
      "Epoch 2/50\n",
      "\u001b[1m1532/1532\u001b[0m \u001b[32m━━━━━━━━━━━━━━━━━━━━\u001b[0m\u001b[37m\u001b[0m \u001b[1m8s\u001b[0m 5ms/step - accuracy: 0.9018 - loss: 0.3726 - val_accuracy: 0.8873 - val_loss: 0.4089\n",
      "Epoch 3/50\n",
      "\u001b[1m1532/1532\u001b[0m \u001b[32m━━━━━━━━━━━━━━━━━━━━\u001b[0m\u001b[37m\u001b[0m \u001b[1m8s\u001b[0m 5ms/step - accuracy: 0.9010 - loss: 0.3684 - val_accuracy: 0.8868 - val_loss: 0.4185\n",
      "Epoch 4/50\n",
      "\u001b[1m1532/1532\u001b[0m \u001b[32m━━━━━━━━━━━━━━━━━━━━\u001b[0m\u001b[37m\u001b[0m \u001b[1m9s\u001b[0m 6ms/step - accuracy: 0.9003 - loss: 0.3740 - val_accuracy: 0.8876 - val_loss: 0.4197\n",
      "Epoch 5/50\n",
      "\u001b[1m1532/1532\u001b[0m \u001b[32m━━━━━━━━━━━━━━━━━━━━\u001b[0m\u001b[37m\u001b[0m \u001b[1m10s\u001b[0m 6ms/step - accuracy: 0.9003 - loss: 0.3764 - val_accuracy: 0.8944 - val_loss: 0.4059\n",
      "Epoch 6/50\n",
      "\u001b[1m1532/1532\u001b[0m \u001b[32m━━━━━━━━━━━━━━━━━━━━\u001b[0m\u001b[37m\u001b[0m \u001b[1m8s\u001b[0m 5ms/step - accuracy: 0.9007 - loss: 0.3737 - val_accuracy: 0.8939 - val_loss: 0.4058\n",
      "Epoch 7/50\n",
      "\u001b[1m1532/1532\u001b[0m \u001b[32m━━━━━━━━━━━━━━━━━━━━\u001b[0m\u001b[37m\u001b[0m \u001b[1m7s\u001b[0m 5ms/step - accuracy: 0.9035 - loss: 0.3678 - val_accuracy: 0.8933 - val_loss: 0.4093\n",
      "Epoch 8/50\n",
      "\u001b[1m1532/1532\u001b[0m \u001b[32m━━━━━━━━━━━━━━━━━━━━\u001b[0m\u001b[37m\u001b[0m \u001b[1m11s\u001b[0m 5ms/step - accuracy: 0.9049 - loss: 0.3710 - val_accuracy: 0.8918 - val_loss: 0.4068\n",
      "Epoch 9/50\n",
      "\u001b[1m1532/1532\u001b[0m \u001b[32m━━━━━━━━━━━━━━━━━━━━\u001b[0m\u001b[37m\u001b[0m \u001b[1m8s\u001b[0m 5ms/step - accuracy: 0.9015 - loss: 0.3733 - val_accuracy: 0.8912 - val_loss: 0.4093\n",
      "Epoch 10/50\n",
      "\u001b[1m1532/1532\u001b[0m \u001b[32m━━━━━━━━━━━━━━━━━━━━\u001b[0m\u001b[37m\u001b[0m \u001b[1m8s\u001b[0m 5ms/step - accuracy: 0.9058 - loss: 0.3664 - val_accuracy: 0.8904 - val_loss: 0.4117\n",
      "Epoch 11/50\n",
      "\u001b[1m1532/1532\u001b[0m \u001b[32m━━━━━━━━━━━━━━━━━━━━\u001b[0m\u001b[37m\u001b[0m \u001b[1m11s\u001b[0m 5ms/step - accuracy: 0.8988 - loss: 0.3765 - val_accuracy: 0.8937 - val_loss: 0.4037\n",
      "Epoch 12/50\n",
      "\u001b[1m1532/1532\u001b[0m \u001b[32m━━━━━━━━━━━━━━━━━━━━\u001b[0m\u001b[37m\u001b[0m \u001b[1m10s\u001b[0m 5ms/step - accuracy: 0.9045 - loss: 0.3686 - val_accuracy: 0.8926 - val_loss: 0.4043\n",
      "Epoch 13/50\n",
      "\u001b[1m1532/1532\u001b[0m \u001b[32m━━━━━━━━━━━━━━━━━━━━\u001b[0m\u001b[37m\u001b[0m \u001b[1m10s\u001b[0m 5ms/step - accuracy: 0.9042 - loss: 0.3692 - val_accuracy: 0.8912 - val_loss: 0.4135\n",
      "Epoch 14/50\n",
      "\u001b[1m1532/1532\u001b[0m \u001b[32m━━━━━━━━━━━━━━━━━━━━\u001b[0m\u001b[37m\u001b[0m \u001b[1m8s\u001b[0m 5ms/step - accuracy: 0.9037 - loss: 0.3718 - val_accuracy: 0.8946 - val_loss: 0.3995\n",
      "Epoch 15/50\n",
      "\u001b[1m1532/1532\u001b[0m \u001b[32m━━━━━━━━━━━━━━━━━━━━\u001b[0m\u001b[37m\u001b[0m \u001b[1m10s\u001b[0m 5ms/step - accuracy: 0.9039 - loss: 0.3692 - val_accuracy: 0.8934 - val_loss: 0.4099\n",
      "Epoch 16/50\n",
      "\u001b[1m1532/1532\u001b[0m \u001b[32m━━━━━━━━━━━━━━━━━━━━\u001b[0m\u001b[37m\u001b[0m \u001b[1m10s\u001b[0m 5ms/step - accuracy: 0.9005 - loss: 0.3748 - val_accuracy: 0.8934 - val_loss: 0.4058\n",
      "Epoch 17/50\n",
      "\u001b[1m1532/1532\u001b[0m \u001b[32m━━━━━━━━━━━━━━━━━━━━\u001b[0m\u001b[37m\u001b[0m \u001b[1m11s\u001b[0m 5ms/step - accuracy: 0.9037 - loss: 0.3675 - val_accuracy: 0.8945 - val_loss: 0.4074\n",
      "Epoch 18/50\n",
      "\u001b[1m1532/1532\u001b[0m \u001b[32m━━━━━━━━━━━━━━━━━━━━\u001b[0m\u001b[37m\u001b[0m \u001b[1m8s\u001b[0m 5ms/step - accuracy: 0.9037 - loss: 0.3712 - val_accuracy: 0.8934 - val_loss: 0.4051\n",
      "Epoch 19/50\n",
      "\u001b[1m1532/1532\u001b[0m \u001b[32m━━━━━━━━━━━━━━━━━━━━\u001b[0m\u001b[37m\u001b[0m \u001b[1m10s\u001b[0m 5ms/step - accuracy: 0.9054 - loss: 0.3696 - val_accuracy: 0.8914 - val_loss: 0.4080\n",
      "Epoch 19: early stopping\n",
      "Restoring model weights from the end of the best epoch: 14.\n",
      "Training Time: 172.66564774513245 seconds\n"
     ]
    }
   ],
   "source": [
    "import time\n",
    "start_time = time.time()\n",
    "best_model.fit(x_train, y_train, epochs=50, validation_data=(x_val, y_val), callbacks=[early_stopping], verbose=1)\n",
    "end_time = time.time()\n",
    "training_time = end_time - start_time\n",
    "print(\"Training Time:\", training_time, \"seconds\")"
   ]
  },
  {
   "cell_type": "markdown",
   "id": "ced55978",
   "metadata": {},
   "source": [
    "Validation Loss Curves: Plot the training and validation loss from the history object returned by model.fit()"
   ]
  },
  {
   "cell_type": "code",
   "execution_count": 16,
   "id": "845f407d",
   "metadata": {},
   "outputs": [
    {
     "data": {
      "image/png": "[encoded data removed]",
      "text/plain": [
       "<Figure size 640x480 with 1 Axes>"
      ]
     },
     "metadata": {},
     "output_type": "display_data"
    }
   ],
   "source": [
    "plt.plot(history.history['loss'], label='Train Loss')\n",
    "plt.plot(history.history['val_loss'], label='Validation Loss')\n",
    "plt.legend()\n",
    "plt.show()"
   ]
  },
  {
   "cell_type": "markdown",
   "id": "d2420cae",
   "metadata": {},
   "source": [
    "Overfitting Analysis: Plot both training and validation accuracy curves. A significant gap between training and validation accuracy indicates overfitting.\n",
    "\n"
   ]
  },
  {
   "cell_type": "code",
   "execution_count": 17,
   "id": "2e65a028",
   "metadata": {},
   "outputs": [
    {
     "data": {
      "image/png": "[encoded data removed]",
      "text/plain": [
       "<Figure size 640x480 with 1 Axes>"
      ]
     },
     "metadata": {},
     "output_type": "display_data"
    }
   ],
   "source": [
    "plt.plot(history.history['accuracy'], label='Train Accuracy')\n",
    "plt.plot(history.history['val_accuracy'], label='Validation Accuracy')\n",
    "plt.legend()\n",
    "plt.show()\n"
   ]
  }
 ],
 "metadata": {
  "kernelspec": {
   "display_name": "tfenv311",
   "language": "python",
   "name": "python3"
  },
  "language_info": {
   "codemirror_mode": {
    "name": "ipython",
    "version": 3
   },
   "file_extension": ".py",
   "mimetype": "text/x-python",
   "name": "python",
   "nbconvert_exporter": "python",
   "pygments_lexer": "ipython3",
   "version": "3.11.0"
  }
 },
 "nbformat": 4,
 "nbformat_minor": 5
}
