{
 "cells": [
  {
   "cell_type": "markdown",
   "id": "e3a4c4f7",
   "metadata": {},
   "source": [
    "Extra Trees Classifier\n",
    "---------------------------------\n",
    "\n",
    "This model works like Random Forest, but it is more randomized and accurate"
   ]
  },
  {
   "cell_type": "code",
   "execution_count": 1,
   "id": "3fc6519f",
   "metadata": {},
   "outputs": [],
   "source": [
    "# Getting the dataset from the .npz file\n",
    "import numpy as np\n",
    "\n",
    "np.random.seed(42)\n",
    "\n",
    "# Loading the data (NON-PCA)\n",
    "data = np.load(\"preprocessed_data.npz\")\n",
    "x_train_flat, y_train = data[\"x_train_flat\"], data[\"y_train\"]\n",
    "x_val_flat, y_val = data[\"x_val_flat\"], data[\"y_val\"]\n",
    "x_test_flat, y_test = data[\"x_test_flat\"], data[\"y_test\"]\n",
    "\n",
    "# Loading the data (PCA)\n",
    "data2 = np.load(\"preprocessed_data_pca95.npz\")\n",
    "x_train_pca95, y_train = data2[\"x_train_pca95\"], data2[\"y_train\"]\n",
    "x_val_pca95, y_val = data2[\"x_val_pca95\"], data2[\"y_val\"]\n",
    "x_test_pca95, y_test = data2[\"x_test_pca95\"], data2[\"y_test\"]"
   ]
  },
  {
   "cell_type": "code",
   "execution_count": 2,
   "id": "fba7f817",
   "metadata": {},
   "outputs": [],
   "source": [
    "from sklearn.ensemble import ExtraTreesClassifier\n",
    "from sklearn.metrics import accuracy_score\n",
    "import time\n",
    "\n",
    "def train_evaluate_extra_trees_fast(x_train, y_train, x_val, y_val, x_test, y_test, n_estimators, max_depth, min_samples_split, min_samples_leaf, max_features):\n",
    "\n",
    "    model = ExtraTreesClassifier(\n",
    "        n_estimators=n_estimators,\n",
    "        max_depth=max_depth,\n",
    "        min_samples_split=min_samples_split,\n",
    "        min_samples_leaf=min_samples_leaf,\n",
    "        max_features=max_features,\n",
    "        random_state=42,\n",
    "        n_jobs=-1\n",
    "    )\n",
    "\n",
    "    start_time = time.time()\n",
    "    model.fit(x_train, y_train)\n",
    "    train_time = time.time() - start_time\n",
    "\n",
    "    y_train_pred = model.predict(x_train)\n",
    "    y_val_pred = model.predict(x_val)\n",
    "    y_test_pred = model.predict(x_test)\n",
    "\n",
    "    train_acc = accuracy_score(y_train, y_train_pred)\n",
    "    val_acc = accuracy_score(y_val, y_val_pred)\n",
    "    test_acc = accuracy_score(y_test, y_test_pred)\n",
    "    overfit_gap = train_acc - val_acc\n",
    "\n",
    "    print(f\"\\nExtra Trees Model (Fast):\")\n",
    "    print(f\"Train Accuracy: {train_acc:.4f}\")\n",
    "    print(f\"Val Accuracy:   {val_acc:.4f}\")\n",
    "    print(f\"Test Accuracy:  {test_acc:.4f}\")\n",
    "    print(f\"Overfitting Gap: {overfit_gap:.4f}\")\n",
    "    print(f\"Training Time:   {train_time:.2f} seconds\")\n",
    "\n",
    "    return {\n",
    "        'train_acc': train_acc,\n",
    "        'val_acc': val_acc,\n",
    "        'test_acc': test_acc,\n",
    "        'overfit_gap': overfit_gap,\n",
    "        'train_time': train_time\n",
    "    }\n"
   ]
  },
  {
   "cell_type": "code",
   "execution_count": 3,
   "id": "68573de8",
   "metadata": {},
   "outputs": [
    {
     "name": "stdout",
     "output_type": "stream",
     "text": [
      "\n",
      "Extra Trees Model (Fast):\n",
      "Train Accuracy: 0.9194\n",
      "Val Accuracy:   0.8664\n",
      "Test Accuracy:  0.8720\n",
      "Overfitting Gap: 0.0530\n",
      "Training Time:   74.90 seconds\n"
     ]
    }
   ],
   "source": [
    "# Training on non-PCA Data\n",
    "etc_results = train_evaluate_extra_trees_fast(x_train_flat, y_train, x_val_flat, y_val, x_test_flat, y_test, n_estimators=60, max_depth=12, min_samples_split=8, min_samples_leaf=4, max_features=0.5)"
   ]
  },
  {
   "cell_type": "code",
   "execution_count": 4,
   "id": "ce0bca39",
   "metadata": {},
   "outputs": [
    {
     "name": "stdout",
     "output_type": "stream",
     "text": [
      "\n",
      "Extra Trees Model (Fast):\n",
      "Train Accuracy: 0.8909\n",
      "Val Accuracy:   0.8368\n",
      "Test Accuracy:  0.8368\n",
      "Overfitting Gap: 0.0541\n",
      "Training Time:   11.93 seconds\n"
     ]
    }
   ],
   "source": [
    "# Training on PCA Data\n",
    "etc_results = train_evaluate_extra_trees_fast(x_train_pca95, y_train, x_val_pca95, y_val, x_test_pca95, y_test, n_estimators=60, max_depth=12, min_samples_split=8, min_samples_leaf=4, max_features=0.5)"
   ]
  }
 ],
 "metadata": {
  "kernelspec": {
   "display_name": "Python 3",
   "language": "python",
   "name": "python3"
  },
  "language_info": {
   "codemirror_mode": {
    "name": "ipython",
    "version": 3
   },
   "file_extension": ".py",
   "mimetype": "text/x-python",
   "name": "python",
   "nbconvert_exporter": "python",
   "pygments_lexer": "ipython3",
   "version": "3.11.9"
  }
 },
 "nbformat": 4,
 "nbformat_minor": 5
}
