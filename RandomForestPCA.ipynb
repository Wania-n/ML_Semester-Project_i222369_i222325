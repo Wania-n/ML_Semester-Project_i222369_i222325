{
 "cells": [
  {
   "cell_type": "code",
   "execution_count": 1,
   "id": "231e75a1",
   "metadata": {},
   "outputs": [],
   "source": [
    "import numpy as np\n",
    "from sklearn.model_selection import GridSearchCV\n",
    "from sklearn.ensemble import RandomForestClassifier  # Changed to RandomForest\n",
    "from sklearn.metrics import accuracy_score, classification_report, confusion_matrix\n",
    "import time\n",
    "import matplotlib.pyplot as plt\n",
    "\n",
    "# Load your PCA-transformed data\n",
    "x_train = np.load('x_train_pca95.npy')  # Or however you named it\n",
    "x_val = np.load('x_val_pca95.npy')\n",
    "x_test = np.load('x_test_pca95.npy')\n",
    "y_train = np.load('y_train.npy')\n",
    "y_val = np.load('y_val.npy')\n",
    "y_test = np.load('y_test.npy')"
   ]
  },
  {
   "cell_type": "markdown",
   "id": "68b97b53",
   "metadata": {},
   "source": [
    "Training and Evaluation Function"
   ]
  },
  {
   "cell_type": "code",
   "execution_count": 2,
   "id": "d87a0641",
   "metadata": {},
   "outputs": [],
   "source": [
    "def train_and_evaluate_rf(x_train, y_train, x_val, y_val, x_test, y_test,\n",
    "                         max_depth=None, min_samples_split=2):\n",
    "    \"\"\"Trains and evaluates a Random Forest model.\"\"\"\n",
    "\n",
    "    start_time = time.time()\n",
    "    model = RandomForestClassifier(\n",
    "        max_depth=max_depth,\n",
    "        min_samples_split=min_samples_split,\n",
    "        random_state=42  # For reproducibility\n",
    "    )\n",
    "    model.fit(x_train, y_train)\n",
    "    training_time = time.time() - start_time\n",
    "\n",
    "    y_pred = model.predict(x_test)\n",
    "    accuracy = accuracy_score(y_test, y_pred)\n",
    "\n",
    "    # Validation Accuracy (Random Forest doesn't directly give 'loss' like Logistic Regression)\n",
    "    y_val_pred = model.predict(x_val)\n",
    "    val_accuracy = accuracy_score(y_val, y_val_pred)\n",
    "\n",
    "    return model, training_time, accuracy, val_accuracy"
   ]
  },
  {
   "cell_type": "markdown",
   "id": "0cc6d8bf",
   "metadata": {},
   "source": [
    " Base Model Training"
   ]
  },
  {
   "cell_type": "code",
   "execution_count": 3,
   "id": "dd42266f",
   "metadata": {},
   "outputs": [
    {
     "name": "stdout",
     "output_type": "stream",
     "text": [
      "--- Base Random Forest Model ---\n",
      "Test Accuracy: 0.862\n",
      "Validation Accuracy: 0.8603123214625785\n",
      "Training Time: 231.5366108417511\n"
     ]
    }
   ],
   "source": [
    "# --- Base Model Training ---\n",
    "print(\"--- Base Random Forest Model ---\")\n",
    "\n",
    "rf_model, rf_time, rf_acc, rf_val_acc = train_and_evaluate_rf(\n",
    "    x_train, y_train, x_val, y_val, x_test, y_test,\n",
    "    max_depth=20, min_samples_split=5  # Example values\n",
    ")\n",
    "\n",
    "print(\"Test Accuracy:\", rf_acc)\n",
    "print(\"Validation Accuracy:\", rf_val_acc)\n",
    "print(\"Training Time:\", rf_time)"
   ]
  },
  {
   "cell_type": "markdown",
   "id": "bbad6b46",
   "metadata": {},
   "source": [
    "Hyperparameter Tuning (GridSearchCV)"
   ]
  },
  {
   "cell_type": "code",
   "execution_count": 4,
   "id": "4362d99e",
   "metadata": {},
   "outputs": [
    {
     "name": "stdout",
     "output_type": "stream",
     "text": [
      "\n",
      "--- Random Forest Hyperparameter Tuning ---\n",
      "Fitting 3 folds for each of 12 candidates, totalling 36 fits\n",
      "Best Parameters: {'max_depth': 30, 'min_samples_split': 2}\n",
      "Best Model Test Accuracy: 0.8609523809523809\n"
     ]
    }
   ],
   "source": [
    "# --- Hyperparameter Tuning ---\n",
    "print(\"\\n--- Random Forest Hyperparameter Tuning ---\")\n",
    "\n",
    "param_grid_rf = {\n",
    "    'max_depth': [10, 20, 30, None],  # None means no maximum depth\n",
    "    'min_samples_split': [2, 5, 10]\n",
    "}\n",
    "\n",
    "grid_search_rf = GridSearchCV(\n",
    "    RandomForestClassifier(random_state=42),  # Keep random_state for reproducibility\n",
    "    param_grid_rf,\n",
    "    cv=3,\n",
    "    scoring='accuracy',\n",
    "    verbose=1,\n",
    "    n_jobs=-1  # Use all available cores\n",
    ")\n",
    "\n",
    "grid_search_rf.fit(x_train, y_train)\n",
    "\n",
    "best_rf_model = grid_search_rf.best_estimator_\n",
    "print(\"Best Parameters:\", grid_search_rf.best_params_)\n",
    "\n",
    "y_pred_best_rf = best_rf_model.predict(x_test)\n",
    "best_rf_test_acc = accuracy_score(y_test, y_pred_best_rf)\n",
    "print(\"Best Model Test Accuracy:\", best_rf_test_acc)"
   ]
  },
  {
   "cell_type": "markdown",
   "id": "f058cab5",
   "metadata": {},
   "source": [
    "Overfitting Analysis"
   ]
  },
  {
   "cell_type": "code",
   "execution_count": 5,
   "id": "a0c76cfb",
   "metadata": {},
   "outputs": [
    {
     "name": "stdout",
     "output_type": "stream",
     "text": [
      "\n",
      "--- Overfitting Analysis ---\n",
      "Training Accuracy: 0.9999795910037145\n",
      "Test Accuracy: 0.8609523809523809\n",
      "Overfitting Gap: 0.13902721005133356\n",
      "\n",
      "Classification Report:\n",
      "               precision    recall  f1-score   support\n",
      "\n",
      "           0       0.78      0.86      0.82      1040\n",
      "           1       1.00      0.95      0.97      1061\n",
      "           2       0.77      0.80      0.79      1036\n",
      "           3       0.86      0.89      0.88      1103\n",
      "           4       0.76      0.81      0.79       995\n",
      "           5       0.92      0.93      0.93      1075\n",
      "           6       0.72      0.55      0.63      1083\n",
      "           7       0.93      0.90      0.92      1032\n",
      "           8       0.93      0.96      0.94       993\n",
      "           9       0.92      0.94      0.93      1082\n",
      "\n",
      "    accuracy                           0.86     10500\n",
      "   macro avg       0.86      0.86      0.86     10500\n",
      "weighted avg       0.86      0.86      0.86     10500\n",
      "\n",
      "\n",
      "Confusion Matrix:\n",
      " [[ 895    0   13   48    6    3   62    0   13    0]\n",
      " [   4 1013    8   29    1    0    3    0    2    1]\n",
      " [  11    0  833   11  103    3   67    0    8    0]\n",
      " [  32    3    8  981   37    1   34    0    7    0]\n",
      " [   4    0   83   33  804    0   61    0   10    0]\n",
      " [   0    0    0    2    0 1004    0   32    4   33]\n",
      " [ 198    1  128   28   97    2  601    0   28    0]\n",
      " [   0    0    0    0    0   42    0  933    1   56]\n",
      " [   4    0    2    5    4   12    7    1  956    2]\n",
      " [   0    0    0    0    0   19    1   40    2 1020]]\n"
     ]
    }
   ],
   "source": [
    "# --- Overfitting Analysis ---\n",
    "print(\"\\n--- Overfitting Analysis ---\")\n",
    "\n",
    "y_train_pred = best_rf_model.predict(x_train)\n",
    "train_accuracy = accuracy_score(y_train, y_train_pred)\n",
    "test_accuracy = best_rf_test_acc  # From GridSearchCV\n",
    "\n",
    "print(\"Training Accuracy:\", train_accuracy)\n",
    "print(\"Test Accuracy:\", test_accuracy)\n",
    "print(\"Overfitting Gap:\", train_accuracy - test_accuracy)\n",
    "\n",
    "# Classification Report and Confusion Matrix (Optional but good to have)\n",
    "print(\"\\nClassification Report:\\n\", classification_report(y_test, y_pred_best_rf))\n",
    "print(\"\\nConfusion Matrix:\\n\", confusion_matrix(y_test, y_pred_best_rf))"
   ]
  },
  {
   "cell_type": "markdown",
   "id": "7ad26167",
   "metadata": {},
   "source": [
    "Validation \"Curve\" (Approximation with GridSearchCV)"
   ]
  },
  {
   "cell_type": "code",
   "execution_count": 7,
   "id": "459ca607",
   "metadata": {},
   "outputs": [
    {
     "name": "stdout",
     "output_type": "stream",
     "text": [
      "\n",
      "--- Validation Curve Approximation ---\n"
     ]
    },
    {
     "data": {
      "image/png": "[encoded data removed]",
      "text/plain": [
       "<Figure size 800x600 with 1 Axes>"
      ]
     },
     "metadata": {},
     "output_type": "display_data"
    }
   ],
   "source": [
    "# --- Validation \"Curve\" Approximation ---\n",
    "print(\"\\n--- Validation Curve Approximation ---\")\n",
    "\n",
    "#  We'll plot performance vs. max_depth (you could adapt for min_samples_split)\n",
    "\n",
    "mean_val_scores = grid_search_rf.cv_results_['mean_test_score']\n",
    "max_depths = grid_search_rf.cv_results_['param_max_depth']  # Corrected line\n",
    "\n",
    "#  For plotting, we need to handle 'None' in max_depth\n",
    "max_depths_for_plot = [d if d is not None else max(\n",
    "    [val for val in max_depths if val is not None]) + 5 for d in max_depths]  # Replace None with a large value\n",
    "\n",
    "plt.figure(figsize=(8, 6))\n",
    "plt.plot(max_depths_for_plot, mean_val_scores, marker='o')\n",
    "plt.xticks(max_depths_for_plot,\n",
    "           [str(d) for d in max_depths])  # Ensure 'None' is labeled correctly\n",
    "plt.xlabel(\"Max Depth\")\n",
    "plt.ylabel(\"Mean Validation Accuracy\")\n",
    "plt.title(\"Random Forest: Validation Accuracy vs. Max Depth\")\n",
    "plt.grid(True)\n",
    "plt.show()"
   ]
  }
 ],
 "metadata": {
  "kernelspec": {
   "display_name": "tfenv311",
   "language": "python",
   "name": "python3"
  },
  "language_info": {
   "codemirror_mode": {
    "name": "ipython",
    "version": 3
   },
   "file_extension": ".py",
   "mimetype": "text/x-python",
   "name": "python",
   "nbconvert_exporter": "python",
   "pygments_lexer": "ipython3",
   "version": "3.11.0"
  }
 },
 "nbformat": 4,
 "nbformat_minor": 5
}
