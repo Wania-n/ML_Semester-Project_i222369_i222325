{
 "cells": [
  {
   "cell_type": "markdown",
   "id": "28ca17b3",
   "metadata": {},
   "source": [
    "Machine Learning - Semester Project \n",
    "------------------------------------------------------------\n",
    "\n",
    "Done by Wania Naeem (22I-2369) and Emaan Ali (22I-2325)\n",
    "\n",
    "This is the first part of the project - DATA PRE-PROCESSING!!!\n",
    "\n",
    "- We are downloading the Fashion MNIST dataset using tensorflow/ keras\n",
    "- Normalized the data into [0, 1]\n",
    "- Split the dataset into 70:15:15 (Train set, Validation set, Test set)\n",
    "- Flatten the images into 1D for non-NN Models"
   ]
  },
  {
   "cell_type": "code",
   "execution_count": 1,
   "id": "f82561be",
   "metadata": {},
   "outputs": [
    {
     "ename": "ModuleNotFoundError",
     "evalue": "No module named 'tensorflow'",
     "output_type": "error",
     "traceback": [
      "\u001b[31m---------------------------------------------------------------------------\u001b[39m",
      "\u001b[31mModuleNotFoundError\u001b[39m                       Traceback (most recent call last)",
      "\u001b[36mCell\u001b[39m\u001b[36m \u001b[39m\u001b[32mIn[1]\u001b[39m\u001b[32m, line 2\u001b[39m\n\u001b[32m      1\u001b[39m \u001b[38;5;66;03m# Downloading the dataset\u001b[39;00m\n\u001b[32m----> \u001b[39m\u001b[32m2\u001b[39m \u001b[38;5;28;01mfrom\u001b[39;00m\u001b[38;5;250m \u001b[39m\u001b[34;01mtensorflow\u001b[39;00m\u001b[34;01m.\u001b[39;00m\u001b[34;01mkeras\u001b[39;00m\u001b[34;01m.\u001b[39;00m\u001b[34;01mdatasets\u001b[39;00m\u001b[38;5;250m \u001b[39m\u001b[38;5;28;01mimport\u001b[39;00m fashion_mnist\n\u001b[32m      3\u001b[39m \u001b[38;5;28;01mimport\u001b[39;00m\u001b[38;5;250m \u001b[39m\u001b[34;01mnumpy\u001b[39;00m\u001b[38;5;250m \u001b[39m\u001b[38;5;28;01mas\u001b[39;00m\u001b[38;5;250m \u001b[39m\u001b[34;01mnp\u001b[39;00m\n\u001b[32m      4\u001b[39m \u001b[38;5;28;01mimport\u001b[39;00m\u001b[38;5;250m \u001b[39m\u001b[34;01mpandas\u001b[39;00m\u001b[38;5;250m \u001b[39m\u001b[38;5;28;01mas\u001b[39;00m\u001b[38;5;250m \u001b[39m\u001b[34;01mpd\u001b[39;00m\n",
      "\u001b[31mModuleNotFoundError\u001b[39m: No module named 'tensorflow'"
     ]
    }
   ],
   "source": [
    "# Downloading the dataset\n",
    "from tensorflow.keras.datasets import fashion_mnist\n",
    "import numpy as np\n",
    "import pandas as pd\n",
    "\n",
    "np.random.seed(42)\n",
    "(x_train, y_train), (x_test, y_test) = fashion_mnist.load_data()\n",
    "\n",
    "# Combine both\n",
    "x_full = np.concatenate([x_train, x_test], axis=0)\n",
    "y_full = np.concatenate([y_train, y_test], axis=0)"
   ]
  },
  {
   "cell_type": "code",
   "execution_count": null,
   "id": "ba2df977",
   "metadata": {},
   "outputs": [],
   "source": [
    "import numpy as np\n",
    "from sklearn.model_selection import train_test_split\n",
    "\n",
    "# Setting the Random factor constant\n",
    "np.random.seed(42)\n",
    "\n",
    "# Normalizing the Fashion MNIST Dataset into pixel values [0, 1]\n",
    "x_full = x_full.astype('float32') / 255.0\n",
    "\n",
    "# Splitting the dataset into 70% Train set, 15% Validation set, 15% Test set\n",
    "x_temp, x_test, y_temp, y_test = train_test_split(x_full, y_full, test_size=0.15, random_state=42)\n",
    "x_train, x_val, y_train, y_val = train_test_split(x_temp, y_temp, test_size=0.1765, random_state=42)  # 0.1765 of 85% ≈ 15%"
   ]
  },
  {
   "cell_type": "code",
   "execution_count": null,
   "id": "1ddfd8c8",
   "metadata": {},
   "outputs": [],
   "source": [
    "# Flattening the Images into 1D now for non-NN models\n",
    "x_train_flat = x_train.reshape(x_train.shape[0], -1)\n",
    "x_val_flat = x_val.reshape(x_val.shape[0], -1)\n",
    "x_test_flat = x_test.reshape(x_test.shape[0], -1)"
   ]
  },
  {
   "cell_type": "code",
   "execution_count": null,
   "id": "d834a095",
   "metadata": {},
   "outputs": [],
   "source": [
    "# Setting a function to return Preprocessed non-PCA data\n",
    "def get_preprocessed_data():\n",
    "    return x_train, y_train, x_val, y_val, x_test, y_test\n",
    "\n",
    "# Setting a function to return Preprocessed non-PCA data for NN models\n",
    "def get_proprocessed_data_NN():\n",
    "    return x_train_flat, y_train, x_val_flat, y_val, x_test_flat, y_test"
   ]
  },
  {
   "cell_type": "markdown",
   "id": "8e0717c4",
   "metadata": {},
   "source": [
    "Dimension Reduction with PCA\n",
    "-----------------------------------------------------\n",
    "This is the second part - DIMENSION REDUCTION USING PCA!!\n",
    "\n",
    "Dimension Reduction is a method of reducing features in our dataset while keeping the information the same. PCA (Principal Component Analysis) gives the most variance of the data in a feature. This is used to reduce training time, avoid overfitting and reduce noise in the dataset.\n",
    "\n",
    "- Apply PCA to Training data only\n",
    "- Choose components explaining >= 95% Variance\n",
    "    - Checking which features retain more than or equal to 95% of their information\n",
    "- Transform validation/test data using PCA\n",
    "- PCA (95% AND 98% Variance), t-SNE (visualization), UMAP (50 components)"
   ]
  },
  {
   "cell_type": "code",
   "execution_count": null,
   "id": "b2fed0dc",
   "metadata": {},
   "outputs": [],
   "source": [
    "# Apply PCA to training set\n",
    "from sklearn.decomposition import PCA\n",
    "pca = PCA()\n",
    "pca.fit(x_train_flat)"
   ]
  },
  {
   "cell_type": "code",
   "execution_count": null,
   "id": "2d29b689",
   "metadata": {},
   "outputs": [],
   "source": [
    "# Plotting a cumalative explained variance of features vs number of components\n",
    "# This gives us how many components are needed to retain 0.95 of the information\n",
    "import matplotlib.pyplot as plt\n",
    "\n",
    "cumulative_variance = np.cumsum(pca.explained_variance_ratio_)\n",
    "plt.plot(cumulative_variance)\n",
    "plt.xlabel(\"Number of Components\")\n",
    "plt.ylabel(\"Cumulative Explained Variance\")\n",
    "plt.grid(True)\n",
    "plt.axhline(y=0.95, color='r', linestyle='--')\n",
    "plt.show()\n"
   ]
  },
  {
   "cell_type": "code",
   "execution_count": null,
   "id": "043c53ce",
   "metadata": {},
   "outputs": [],
   "source": [
    "# Selecting the components required to retain 0.95 information\n",
    "pca_95 = PCA(n_components=0.95)\n",
    "x_train_pca95 = pca_95.fit_transform(x_train_flat)\n",
    "x_val_pca95 = pca_95.transform(x_val_flat)\n",
    "x_test_pca95 = pca_95.transform(x_test_flat)"
   ]
  },
  {
   "cell_type": "code",
   "execution_count": null,
   "id": "9c7d61d7",
   "metadata": {},
   "outputs": [],
   "source": [
    "# Selecting the components required to retain 0.98 information\n",
    "pca_98 = PCA(n_components=0.98)\n",
    "x_train_pca98 = pca_98.fit_transform(x_train_flat)\n",
    "x_val_pca98 = pca_98.transform(x_val_flat)\n",
    "x_test_pca98 = pca_98.transform(x_test_flat)"
   ]
  },
  {
   "cell_type": "code",
   "execution_count": null,
   "id": "8e347084",
   "metadata": {},
   "outputs": [],
   "source": [
    "# t-SNE for visualization of high dimension data in 2D or 3D\n",
    "# Since this can be incredibly slow, We will use only 1000 images\n",
    "# This is for pca 0.95\n",
    "from sklearn.manifold import TSNE\n",
    "\n",
    "tsne = TSNE(n_components=2, random_state=42)\n",
    "x_train_tsne95 = tsne.fit_transform(x_train_pca95[:1000])"
   ]
  },
  {
   "cell_type": "code",
   "execution_count": null,
   "id": "fa309ac6",
   "metadata": {},
   "outputs": [],
   "source": [
    "# Plotting the t-SNE for 0.95\n",
    "# The graph shows the closness (similarity) of the classes in the data.\n",
    "\n",
    "plt.figure(figsize=(8,6))\n",
    "plt.scatter(x_train_tsne95[:, 0], x_train_tsne95[:, 1], c=y_train[:1000], cmap='tab10', s=15)\n",
    "plt.title(\"t-SNE visualization (on PCA-reduced data (95%))\")\n",
    "plt.colorbar()\n",
    "plt.show()"
   ]
  },
  {
   "cell_type": "code",
   "execution_count": null,
   "id": "b741f31c",
   "metadata": {},
   "outputs": [],
   "source": [
    "# t-SNE for visualization of high dimension data in 2D or 3D\n",
    "# Since this can be incredibly slow, We will use only 1000 images\n",
    "# This is for pca 0.98\n",
    "\n",
    "tsne2 = TSNE(n_components=2, random_state=42)\n",
    "x_train_tsne98 = tsne2.fit_transform(x_train_pca98[:1000])"
   ]
  },
  {
   "cell_type": "code",
   "execution_count": null,
   "id": "7263b4f0",
   "metadata": {},
   "outputs": [],
   "source": [
    "# Plotting the t-SNE for 0.98\n",
    "# The graph shows the closness (similarity) of the classes in the data.\n",
    "\n",
    "plt.figure(figsize=(8,6))\n",
    "plt.scatter(x_train_tsne98[:, 0], x_train_tsne98[:, 1], c=y_train[:1000], cmap='tab10', s=15)\n",
    "plt.title(\"t-SNE visualization (on PCA-reduced data (98%))\")\n",
    "plt.colorbar()\n",
    "plt.show()"
   ]
  },
  {
   "cell_type": "code",
   "execution_count": null,
   "id": "c5ecb25c",
   "metadata": {},
   "outputs": [],
   "source": [
    "# Applying UMAP on PCA data (0.95)\n",
    "import umap.umap_ as umap\n",
    "\n",
    "reducer = umap.UMAP(n_components=50, random_state=42)\n",
    "x_train_umap95 = reducer.fit_transform(x_train_pca95)\n",
    "x_val_umap95 = reducer.transform(x_val_pca95)\n",
    "x_test_umap95 = reducer.transform(x_test_pca95)"
   ]
  },
  {
   "cell_type": "code",
   "execution_count": null,
   "id": "8d148887",
   "metadata": {},
   "outputs": [],
   "source": [
    "# Lets Visualize the UMAP propcessing on PCA 0.95 dataset\n",
    "plt.figure(figsize=(10, 8))\n",
    "scatter = plt.scatter(\n",
    "    x_train_umap95[:, 0], x_train_umap95[:, 1], \n",
    "    c=y_train, cmap='tab10', s=5, alpha=0.7\n",
    ")\n",
    "plt.colorbar(scatter, label=\"Class Label\")\n",
    "plt.title(\"UMAP Projection of Fashion MNIST (2D) (PCA - 0.95)\")\n",
    "plt.xlabel(\"UMAP 1\")\n",
    "plt.ylabel(\"UMAP 2\")\n",
    "plt.grid(True)\n",
    "plt.show()"
   ]
  },
  {
   "cell_type": "code",
   "execution_count": null,
   "id": "8a05b6d3",
   "metadata": {},
   "outputs": [],
   "source": [
    "# Applying UMAP on PCA data (0.98)\n",
    "import umap.umap_ as umap\n",
    "\n",
    "reducer2 = umap.UMAP(n_components=50, random_state=42)\n",
    "x_train_umap98 = reducer2.fit_transform(x_train_pca98)\n",
    "x_val_umap98 = reducer2.transform(x_val_pca98)\n",
    "x_test_umap98 = reducer2.transform(x_test_pca98)"
   ]
  },
  {
   "cell_type": "code",
   "execution_count": null,
   "id": "288603ff",
   "metadata": {},
   "outputs": [],
   "source": [
    "# Lets Visualize the UMAP propcessing on PCA 0.98 dataset\n",
    "plt.figure(figsize=(10, 8))\n",
    "scatter = plt.scatter(\n",
    "    x_train_umap98[:, 0], x_train_umap98[:, 1], \n",
    "    c=y_train, cmap='tab10', s=5, alpha=0.7\n",
    ")\n",
    "plt.colorbar(scatter, label=\"Class Label\")\n",
    "plt.title(\"UMAP Projection of Fashion MNIST (2D) (PCA - 0.98)\")\n",
    "plt.xlabel(\"UMAP 1\")\n",
    "plt.ylabel(\"UMAP 2\")\n",
    "plt.grid(True)\n",
    "plt.show()"
   ]
  }
 ],
 "metadata": {
  "kernelspec": {
   "display_name": "Python 3",
   "language": "python",
   "name": "python3"
  },
  "language_info": {
   "codemirror_mode": {
    "name": "ipython",
    "version": 3
   },
   "file_extension": ".py",
   "mimetype": "text/x-python",
   "name": "python",
   "nbconvert_exporter": "python",
   "pygments_lexer": "ipython3",
   "version": "3.11.9"
  }
 },
 "nbformat": 4,
 "nbformat_minor": 5
}
